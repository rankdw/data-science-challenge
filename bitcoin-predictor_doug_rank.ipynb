{
 "cells": [
  {
   "cell_type": "code",
   "execution_count": 398,
   "metadata": {},
   "outputs": [],
   "source": [
    "from keras.models import Sequential\n",
    "from keras.layers import Dropout, Activation, Dense\n",
    "from keras.optimizers import SGD, Adam\n",
    "from keras.callbacks import EarlyStopping\n",
    "from keras.layers.advanced_activations import LeakyReLU\n",
    "import pandas as pd\n",
    "from sklearn.preprocessing import MinMaxScaler\n",
    "import numpy as np\n",
    "import matplotlib.pyplot as plt"
   ]
  },
  {
   "cell_type": "code",
   "execution_count": 399,
   "metadata": {},
   "outputs": [
    {
     "data": {
      "text/html": [
       "<div>\n",
       "<style scoped>\n",
       "    .dataframe tbody tr th:only-of-type {\n",
       "        vertical-align: middle;\n",
       "    }\n",
       "\n",
       "    .dataframe tbody tr th {\n",
       "        vertical-align: top;\n",
       "    }\n",
       "\n",
       "    .dataframe thead th {\n",
       "        text-align: right;\n",
       "    }\n",
       "</style>\n",
       "<table border=\"1\" class=\"dataframe\">\n",
       "  <thead>\n",
       "    <tr style=\"text-align: right;\">\n",
       "      <th></th>\n",
       "      <th>price_open</th>\n",
       "      <th>price_high</th>\n",
       "      <th>price_low</th>\n",
       "      <th>price_close</th>\n",
       "      <th>volume_traded</th>\n",
       "      <th>trades_count</th>\n",
       "    </tr>\n",
       "  </thead>\n",
       "  <tbody>\n",
       "    <tr>\n",
       "      <th>0</th>\n",
       "      <td>7165.72</td>\n",
       "      <td>7165.72</td>\n",
       "      <td>7165.71</td>\n",
       "      <td>7165.71</td>\n",
       "      <td>0.021841</td>\n",
       "      <td>2</td>\n",
       "    </tr>\n",
       "    <tr>\n",
       "      <th>1</th>\n",
       "      <td>7168.30</td>\n",
       "      <td>7168.30</td>\n",
       "      <td>7168.30</td>\n",
       "      <td>7168.30</td>\n",
       "      <td>1.000000</td>\n",
       "      <td>2</td>\n",
       "    </tr>\n",
       "    <tr>\n",
       "      <th>2</th>\n",
       "      <td>7170.50</td>\n",
       "      <td>7170.50</td>\n",
       "      <td>7170.50</td>\n",
       "      <td>7170.50</td>\n",
       "      <td>0.002000</td>\n",
       "      <td>1</td>\n",
       "    </tr>\n",
       "    <tr>\n",
       "      <th>3</th>\n",
       "      <td>7169.20</td>\n",
       "      <td>7169.20</td>\n",
       "      <td>7169.20</td>\n",
       "      <td>7169.20</td>\n",
       "      <td>0.004000</td>\n",
       "      <td>2</td>\n",
       "    </tr>\n",
       "    <tr>\n",
       "      <th>4</th>\n",
       "      <td>7169.20</td>\n",
       "      <td>7169.20</td>\n",
       "      <td>7169.20</td>\n",
       "      <td>7169.20</td>\n",
       "      <td>0.002000</td>\n",
       "      <td>1</td>\n",
       "    </tr>\n",
       "  </tbody>\n",
       "</table>\n",
       "</div>"
      ],
      "text/plain": [
       "   price_open  price_high  price_low  price_close  volume_traded  trades_count\n",
       "0     7165.72     7165.72    7165.71      7165.71       0.021841             2\n",
       "1     7168.30     7168.30    7168.30      7168.30       1.000000             2\n",
       "2     7170.50     7170.50    7170.50      7170.50       0.002000             1\n",
       "3     7169.20     7169.20    7169.20      7169.20       0.004000             2\n",
       "4     7169.20     7169.20    7169.20      7169.20       0.002000             1"
      ]
     },
     "execution_count": 399,
     "metadata": {},
     "output_type": "execute_result"
    }
   ],
   "source": [
    "data = pd.read_csv('bitcoin.csv').drop(['time_period_start', 'time_period_end', 'time_open', 'time_close'], axis=1)\n",
    "data.head()"
   ]
  },
  {
   "cell_type": "code",
   "execution_count": 400,
   "metadata": {},
   "outputs": [
    {
     "data": {
      "text/html": [
       "<div>\n",
       "<style scoped>\n",
       "    .dataframe tbody tr th:only-of-type {\n",
       "        vertical-align: middle;\n",
       "    }\n",
       "\n",
       "    .dataframe tbody tr th {\n",
       "        vertical-align: top;\n",
       "    }\n",
       "\n",
       "    .dataframe thead th {\n",
       "        text-align: right;\n",
       "    }\n",
       "</style>\n",
       "<table border=\"1\" class=\"dataframe\">\n",
       "  <thead>\n",
       "    <tr style=\"text-align: right;\">\n",
       "      <th></th>\n",
       "      <th>price_open</th>\n",
       "      <th>price_high</th>\n",
       "      <th>price_low</th>\n",
       "      <th>price_close</th>\n",
       "      <th>volume_traded</th>\n",
       "      <th>trades_count</th>\n",
       "    </tr>\n",
       "  </thead>\n",
       "  <tbody>\n",
       "    <tr>\n",
       "      <th>0</th>\n",
       "      <td>0.267495</td>\n",
       "      <td>0.264047</td>\n",
       "      <td>0.339554</td>\n",
       "      <td>0.267368</td>\n",
       "      <td>0.000336</td>\n",
       "      <td>0.011494</td>\n",
       "    </tr>\n",
       "    <tr>\n",
       "      <th>1</th>\n",
       "      <td>0.300203</td>\n",
       "      <td>0.296333</td>\n",
       "      <td>0.369204</td>\n",
       "      <td>0.300203</td>\n",
       "      <td>0.015381</td>\n",
       "      <td>0.011494</td>\n",
       "    </tr>\n",
       "    <tr>\n",
       "      <th>2</th>\n",
       "      <td>0.328093</td>\n",
       "      <td>0.323864</td>\n",
       "      <td>0.394390</td>\n",
       "      <td>0.328093</td>\n",
       "      <td>0.000031</td>\n",
       "      <td>0.000000</td>\n",
       "    </tr>\n",
       "    <tr>\n",
       "      <th>3</th>\n",
       "      <td>0.311613</td>\n",
       "      <td>0.307596</td>\n",
       "      <td>0.379508</td>\n",
       "      <td>0.311613</td>\n",
       "      <td>0.000061</td>\n",
       "      <td>0.011494</td>\n",
       "    </tr>\n",
       "    <tr>\n",
       "      <th>4</th>\n",
       "      <td>0.311613</td>\n",
       "      <td>0.307596</td>\n",
       "      <td>0.379508</td>\n",
       "      <td>0.311613</td>\n",
       "      <td>0.000031</td>\n",
       "      <td>0.000000</td>\n",
       "    </tr>\n",
       "  </tbody>\n",
       "</table>\n",
       "</div>"
      ],
      "text/plain": [
       "   price_open  price_high  price_low  price_close  volume_traded  trades_count\n",
       "0    0.267495    0.264047   0.339554     0.267368       0.000336      0.011494\n",
       "1    0.300203    0.296333   0.369204     0.300203       0.015381      0.011494\n",
       "2    0.328093    0.323864   0.394390     0.328093       0.000031      0.000000\n",
       "3    0.311613    0.307596   0.379508     0.311613       0.000061      0.011494\n",
       "4    0.311613    0.307596   0.379508     0.311613       0.000031      0.000000"
      ]
     },
     "execution_count": 400,
     "metadata": {},
     "output_type": "execute_result"
    }
   ],
   "source": [
    "scaler = MinMaxScaler()\n",
    "data[data.columns] = scaler.fit_transform(data[data.columns])\n",
    "data.head()"
   ]
  },
  {
   "cell_type": "markdown",
   "metadata": {},
   "source": [
    "Let's take a look at how the price fluctuates over time."
   ]
  },
  {
   "cell_type": "code",
   "execution_count": 422,
   "metadata": {},
   "outputs": [
    {
     "data": {
      "text/plain": [
       "Text(0.5, 1.0, 'Price over entire dataset')"
      ]
     },
     "execution_count": 422,
     "metadata": {},
     "output_type": "execute_result"
    },
    {
     "data": {
      "image/png": "[encoded data removed]",
      "text/plain": [
       "<Figure size 432x288 with 1 Axes>"
      ]
     },
     "metadata": {
      "needs_background": "light"
     },
     "output_type": "display_data"
    }
   ],
   "source": [
    "#data_minimal = data.drop(['price_open','price_low','price_close'], axis=1)\n",
    "price_high_values = data['price_high'].values\n",
    "plt.plot(price_high_values)\n",
    "plt.xlabel(\"Time (seconds)\")\n",
    "plt.ylabel(\"Price High (scaled)\")\n",
    "plt.title(\"Price over entire dataset\")"
   ]
  },
  {
   "cell_type": "code",
   "execution_count": 423,
   "metadata": {},
   "outputs": [
    {
     "data": {
      "text/plain": [
       "Text(0.5, 1.0, 'Four different windows of price fluctuations')"
      ]
     },
     "execution_count": 423,
     "metadata": {},
     "output_type": "execute_result"
    },
    {
     "data": {
      "image/png": "[encoded data removed]",
      "text/plain": [
       "<Figure size 432x288 with 1 Axes>"
      ]
     },
     "metadata": {
      "needs_background": "light"
     },
     "output_type": "display_data"
    }
   ],
   "source": [
    "plt.plot(price_high_values[0:60])\n",
    "plt.plot(price_high_values[60:120])\n",
    "plt.plot(price_high_values[6060:6120])\n",
    "plt.plot(price_high_values[6120:6180])\n",
    "plt.xlabel(\"Time (seconds)\")\n",
    "plt.ylabel(\"Price High (scaled)\")\n",
    "plt.title(\"Four different windows of price fluctuations\")"
   ]
  },
  {
   "cell_type": "markdown",
   "metadata": {},
   "source": [
    "Viewing a few 60 second windows, it is readily apparent that the noise is typically on the order of any trend that occurs.  I imagine this is going to make prediction quite difficult.  Even if we capture the trend, we are only extrapolating 1 second into the future and the noise is going to dominate.\n",
    "\n",
    "I will investigate LSTM to see if we can fix the prediction.  Then I will try another model for comparison."
   ]
  },
  {
   "cell_type": "markdown",
   "metadata": {},
   "source": [
    "## Lookback Window\n",
    "\n",
    "In order to capture the past as features, we create the below function. It takes as input some number of seconds to look back, defaulted to 60 seconds."
   ]
  },
  {
   "cell_type": "code",
   "execution_count": 403,
   "metadata": {},
   "outputs": [
    {
     "data": {
      "text/html": [
       "<div>\n",
       "<style scoped>\n",
       "    .dataframe tbody tr th:only-of-type {\n",
       "        vertical-align: middle;\n",
       "    }\n",
       "\n",
       "    .dataframe tbody tr th {\n",
       "        vertical-align: top;\n",
       "    }\n",
       "\n",
       "    .dataframe thead th {\n",
       "        text-align: right;\n",
       "    }\n",
       "</style>\n",
       "<table border=\"1\" class=\"dataframe\">\n",
       "  <thead>\n",
       "    <tr style=\"text-align: right;\">\n",
       "      <th></th>\n",
       "      <th>price_open</th>\n",
       "      <th>price_high</th>\n",
       "      <th>price_low</th>\n",
       "      <th>price_close</th>\n",
       "      <th>volume_traded</th>\n",
       "      <th>trades_count</th>\n",
       "      <th>price_open_-1</th>\n",
       "      <th>price_high_-1</th>\n",
       "      <th>price_low_-1</th>\n",
       "      <th>price_close_-1</th>\n",
       "      <th>...</th>\n",
       "      <th>price_low_-58</th>\n",
       "      <th>price_close_-58</th>\n",
       "      <th>volume_traded_-58</th>\n",
       "      <th>trades_count_-58</th>\n",
       "      <th>price_open_-59</th>\n",
       "      <th>price_high_-59</th>\n",
       "      <th>price_low_-59</th>\n",
       "      <th>price_close_-59</th>\n",
       "      <th>volume_traded_-59</th>\n",
       "      <th>trades_count_-59</th>\n",
       "    </tr>\n",
       "  </thead>\n",
       "  <tbody>\n",
       "    <tr>\n",
       "      <th>59</th>\n",
       "      <td>0.131212</td>\n",
       "      <td>0.129521</td>\n",
       "      <td>0.216600</td>\n",
       "      <td>0.131212</td>\n",
       "      <td>0.030762</td>\n",
       "      <td>0.011494</td>\n",
       "      <td>0.236815</td>\n",
       "      <td>0.233763</td>\n",
       "      <td>0.311963</td>\n",
       "      <td>0.236815</td>\n",
       "      <td>...</td>\n",
       "      <td>0.369204</td>\n",
       "      <td>0.300203</td>\n",
       "      <td>0.015381</td>\n",
       "      <td>0.011494</td>\n",
       "      <td>0.267495</td>\n",
       "      <td>0.264047</td>\n",
       "      <td>0.339554</td>\n",
       "      <td>0.267368</td>\n",
       "      <td>0.000336</td>\n",
       "      <td>0.011494</td>\n",
       "    </tr>\n",
       "    <tr>\n",
       "      <th>60</th>\n",
       "      <td>0.210193</td>\n",
       "      <td>0.235014</td>\n",
       "      <td>0.287922</td>\n",
       "      <td>0.238083</td>\n",
       "      <td>0.000243</td>\n",
       "      <td>0.011494</td>\n",
       "      <td>0.131212</td>\n",
       "      <td>0.129521</td>\n",
       "      <td>0.216600</td>\n",
       "      <td>0.131212</td>\n",
       "      <td>...</td>\n",
       "      <td>0.394390</td>\n",
       "      <td>0.328093</td>\n",
       "      <td>0.000031</td>\n",
       "      <td>0.000000</td>\n",
       "      <td>0.300203</td>\n",
       "      <td>0.296333</td>\n",
       "      <td>0.369204</td>\n",
       "      <td>0.300203</td>\n",
       "      <td>0.015381</td>\n",
       "      <td>0.011494</td>\n",
       "    </tr>\n",
       "    <tr>\n",
       "      <th>61</th>\n",
       "      <td>0.131339</td>\n",
       "      <td>0.129646</td>\n",
       "      <td>0.216600</td>\n",
       "      <td>0.131339</td>\n",
       "      <td>0.000590</td>\n",
       "      <td>0.022989</td>\n",
       "      <td>0.210193</td>\n",
       "      <td>0.235014</td>\n",
       "      <td>0.287922</td>\n",
       "      <td>0.238083</td>\n",
       "      <td>...</td>\n",
       "      <td>0.379508</td>\n",
       "      <td>0.311613</td>\n",
       "      <td>0.000061</td>\n",
       "      <td>0.011494</td>\n",
       "      <td>0.328093</td>\n",
       "      <td>0.323864</td>\n",
       "      <td>0.394390</td>\n",
       "      <td>0.328093</td>\n",
       "      <td>0.000031</td>\n",
       "      <td>0.000000</td>\n",
       "    </tr>\n",
       "    <tr>\n",
       "      <th>62</th>\n",
       "      <td>0.131339</td>\n",
       "      <td>0.129646</td>\n",
       "      <td>0.216714</td>\n",
       "      <td>0.131339</td>\n",
       "      <td>0.000495</td>\n",
       "      <td>0.000000</td>\n",
       "      <td>0.131339</td>\n",
       "      <td>0.129646</td>\n",
       "      <td>0.216600</td>\n",
       "      <td>0.131339</td>\n",
       "      <td>...</td>\n",
       "      <td>0.379508</td>\n",
       "      <td>0.311613</td>\n",
       "      <td>0.000031</td>\n",
       "      <td>0.000000</td>\n",
       "      <td>0.311613</td>\n",
       "      <td>0.307596</td>\n",
       "      <td>0.379508</td>\n",
       "      <td>0.311613</td>\n",
       "      <td>0.000061</td>\n",
       "      <td>0.011494</td>\n",
       "    </tr>\n",
       "    <tr>\n",
       "      <th>63</th>\n",
       "      <td>0.131212</td>\n",
       "      <td>0.129521</td>\n",
       "      <td>0.216600</td>\n",
       "      <td>0.131212</td>\n",
       "      <td>0.030762</td>\n",
       "      <td>0.000000</td>\n",
       "      <td>0.131339</td>\n",
       "      <td>0.129646</td>\n",
       "      <td>0.216714</td>\n",
       "      <td>0.131339</td>\n",
       "      <td>...</td>\n",
       "      <td>0.339668</td>\n",
       "      <td>0.311613</td>\n",
       "      <td>0.001160</td>\n",
       "      <td>0.022989</td>\n",
       "      <td>0.311613</td>\n",
       "      <td>0.307596</td>\n",
       "      <td>0.379508</td>\n",
       "      <td>0.311613</td>\n",
       "      <td>0.000031</td>\n",
       "      <td>0.000000</td>\n",
       "    </tr>\n",
       "  </tbody>\n",
       "</table>\n",
       "<p>5 rows × 360 columns</p>\n",
       "</div>"
      ],
      "text/plain": [
       "    price_open  price_high  price_low  price_close  volume_traded  \\\n",
       "59    0.131212    0.129521   0.216600     0.131212       0.030762   \n",
       "60    0.210193    0.235014   0.287922     0.238083       0.000243   \n",
       "61    0.131339    0.129646   0.216600     0.131339       0.000590   \n",
       "62    0.131339    0.129646   0.216714     0.131339       0.000495   \n",
       "63    0.131212    0.129521   0.216600     0.131212       0.030762   \n",
       "\n",
       "    trades_count  price_open_-1  price_high_-1  price_low_-1  price_close_-1  \\\n",
       "59      0.011494       0.236815       0.233763      0.311963        0.236815   \n",
       "60      0.011494       0.131212       0.129521      0.216600        0.131212   \n",
       "61      0.022989       0.210193       0.235014      0.287922        0.238083   \n",
       "62      0.000000       0.131339       0.129646      0.216600        0.131339   \n",
       "63      0.000000       0.131339       0.129646      0.216714        0.131339   \n",
       "\n",
       "    ...  price_low_-58  price_close_-58  volume_traded_-58  trades_count_-58  \\\n",
       "59  ...       0.369204         0.300203           0.015381          0.011494   \n",
       "60  ...       0.394390         0.328093           0.000031          0.000000   \n",
       "61  ...       0.379508         0.311613           0.000061          0.011494   \n",
       "62  ...       0.379508         0.311613           0.000031          0.000000   \n",
       "63  ...       0.339668         0.311613           0.001160          0.022989   \n",
       "\n",
       "    price_open_-59  price_high_-59  price_low_-59  price_close_-59  \\\n",
       "59        0.267495        0.264047       0.339554         0.267368   \n",
       "60        0.300203        0.296333       0.369204         0.300203   \n",
       "61        0.328093        0.323864       0.394390         0.328093   \n",
       "62        0.311613        0.307596       0.379508         0.311613   \n",
       "63        0.311613        0.307596       0.379508         0.311613   \n",
       "\n",
       "    volume_traded_-59  trades_count_-59  \n",
       "59           0.000336          0.011494  \n",
       "60           0.015381          0.011494  \n",
       "61           0.000031          0.000000  \n",
       "62           0.000061          0.011494  \n",
       "63           0.000031          0.000000  \n",
       "\n",
       "[5 rows x 360 columns]"
      ]
     },
     "execution_count": 403,
     "metadata": {},
     "output_type": "execute_result"
    }
   ],
   "source": [
    "def lookback(dataset, timesteps = 60):\n",
    "    # this uses the shift method of pandas dataframes to shift all of the columns down one row\n",
    "    # and then append to the original dataset\n",
    "    data = dataset\n",
    "    for i in range(1, timesteps):\n",
    "        step_back = dataset.shift(i).reset_index()\n",
    "        step_back.columns = ['index'] + [f'{column}_-{i}' for column in dataset.columns if column != 'index']\n",
    "        data = data.reset_index().merge(step_back, on='index', ).drop('index', axis=1)\n",
    "        \n",
    "    return data.dropna()\n",
    "        \n",
    "features = lookback(data)\n",
    "\n",
    "features.head()"
   ]
  },
  {
   "cell_type": "code",
   "execution_count": 404,
   "metadata": {},
   "outputs": [],
   "source": [
    "### split data into features and target\n",
    "target = features['price_high'].values\n",
    "features = features.drop('price_high', axis=1).values"
   ]
  },
  {
   "cell_type": "markdown",
   "metadata": {},
   "source": [
    "All of the predictions being zero seems like a common issue that would come up for other people.  Since the stated goal is to get this model working quickly, I see nothing wrong with checking what google has to offer.\n",
    "\n",
    "Based on https://github.com/keras-team/keras/issues/3687 we are going to experiment with different activation functions to see if that resolves the \"predictions are all zero\" issue.  This is the first I've heard of LeakyReLU.  If I understand it correctly, it's just ReLU with a slight slope on the part of the function that is normally horizontal.  This is a continuation of the same strategy behind using ReLU over a logistic.  After some tweaking I found a value of alpha (slope) I'm happy with."
   ]
  },
  {
   "cell_type": "code",
   "execution_count": 405,
   "metadata": {},
   "outputs": [],
   "source": [
    "model = Sequential()\n",
    "model.add(Dense(32, input_dim=features.shape[1]))\n",
    "model.add(Dense(16))\n",
    "model.add(Dense(8))\n",
    "#model.add(Dense(1, activation='relu'))\n",
    "#model.add(Dense(1, activation='tanh'))\n",
    "#model.add(Dense(1, activation=LeakyReLU(alpha=0.17)))\n",
    "model.add(Dense(1))\n",
    "model.add(LeakyReLU(alpha=0.17))\n",
    "\n",
    "model.compile(\n",
    "    loss='mse',\n",
    "    optimizer=Adam(lr=0.01), # is this the best optimizer/learning rate?\n",
    "    metrics=['mean_squared_error', 'mean_absolute_error'] # does accuracy make sense in this context?\n",
    ")\n",
    "\n",
    "## callbacks\n",
    "early_stopping = EarlyStopping(\n",
    "    monitor='val_loss',\n",
    "    mode='auto',\n",
    "    restore_best_weights=True\n",
    ")\n",
    "\n",
    "\n",
    "history = model.fit(\n",
    "    features,\n",
    "    target,\n",
    "    validation_split=.3,\n",
    "    epochs=20,\n",
    "    verbose=0\n",
    ")"
   ]
  },
  {
   "cell_type": "code",
   "execution_count": 406,
   "metadata": {},
   "outputs": [
    {
     "name": "stdout",
     "output_type": "stream",
     "text": [
      "Model: \"sequential_28\"\n",
      "_________________________________________________________________\n",
      "Layer (type)                 Output Shape              Param #   \n",
      "=================================================================\n",
      "dense_108 (Dense)            (None, 32)                11520     \n",
      "_________________________________________________________________\n",
      "dense_109 (Dense)            (None, 16)                528       \n",
      "_________________________________________________________________\n",
      "dense_110 (Dense)            (None, 8)                 136       \n",
      "_________________________________________________________________\n",
      "dense_111 (Dense)            (None, 1)                 9         \n",
      "_________________________________________________________________\n",
      "leaky_re_lu_19 (LeakyReLU)   (None, 1)                 0         \n",
      "=================================================================\n",
      "Total params: 12,193\n",
      "Trainable params: 12,193\n",
      "Non-trainable params: 0\n",
      "_________________________________________________________________\n"
     ]
    }
   ],
   "source": [
    "model.summary()"
   ]
  },
  {
   "cell_type": "markdown",
   "metadata": {},
   "source": [
    "The RMSE (0.6243527047317609 using \"relu\" and minmax scaled data) was drastically improved by changing to LeakyReLU and we are now producing non-zero predictions."
   ]
  },
  {
   "cell_type": "code",
   "execution_count": 407,
   "metadata": {},
   "outputs": [],
   "source": [
    "## prediction\n",
    "predictions = model.predict(features)"
   ]
  },
  {
   "cell_type": "code",
   "execution_count": 408,
   "metadata": {},
   "outputs": [],
   "source": [
    "rmse = np.sqrt(np.mean(np.square((target.reshape(-1, 1) - predictions))))"
   ]
  },
  {
   "cell_type": "code",
   "execution_count": 409,
   "metadata": {},
   "outputs": [
    {
     "data": {
      "text/plain": [
       "0.02200846512272496"
      ]
     },
     "execution_count": 409,
     "metadata": {},
     "output_type": "execute_result"
    }
   ],
   "source": [
    "rmse"
   ]
  },
  {
   "cell_type": "code",
   "execution_count": 410,
   "metadata": {},
   "outputs": [
    {
     "data": {
      "text/plain": [
       "array([[0.17444965],\n",
       "       [0.188965  ],\n",
       "       [0.17939758],\n",
       "       ...,\n",
       "       [0.44997862],\n",
       "       [0.4573252 ],\n",
       "       [0.43692008]], dtype=float32)"
      ]
     },
     "execution_count": 410,
     "metadata": {},
     "output_type": "execute_result"
    }
   ],
   "source": [
    "predictions"
   ]
  },
  {
   "cell_type": "markdown",
   "metadata": {},
   "source": [
    "The big question now is: are the predictions valuable?  I have a sneaking suspicion that we're not doing much better than averaging the price over the previous 60 seconds to predict the price next second.  Or even using the previous second to predict the next."
   ]
  },
  {
   "cell_type": "code",
   "execution_count": 425,
   "metadata": {},
   "outputs": [
    {
     "data": {
      "text/plain": [
       "Text(0.5, 1.0, 'LTSM predictions with LeakyReLU')"
      ]
     },
     "execution_count": 425,
     "metadata": {},
     "output_type": "execute_result"
    },
    {
     "data": {
      "image/png": "[encoded data removed]",
      "text/plain": [
       "<Figure size 432x288 with 1 Axes>"
      ]
     },
     "metadata": {
      "needs_background": "light"
     },
     "output_type": "display_data"
    }
   ],
   "source": [
    "diff = np.subtract(predictions.ravel(),target)\n",
    "plt.plot(diff)\n",
    "plt.xlabel(\"Time (seconds)\")\n",
    "plt.ylabel(\"Residual (scaled)\")\n",
    "plt.title(\"LTSM predictions with LeakyReLU\")"
   ]
  },
  {
   "cell_type": "markdown",
   "metadata": {},
   "source": [
    "Let's see how this compares to guessing that the price the next second will match the price the current second."
   ]
  },
  {
   "cell_type": "code",
   "execution_count": 412,
   "metadata": {},
   "outputs": [
    {
     "data": {
      "text/plain": [
       "0.0312238180383741"
      ]
     },
     "execution_count": 412,
     "metadata": {},
     "output_type": "execute_result"
    }
   ],
   "source": [
    "target_now = target[1:]\n",
    "target_before = target[0:len(target)-1]\n",
    "diff_previous_second = target_now - target_before\n",
    "\n",
    "rmse_previous_second = np.sqrt(np.mean(np.square((diff_previous_second))))\n",
    "rmse_previous_second\n",
    "\n"
   ]
  },
  {
   "cell_type": "code",
   "execution_count": 426,
   "metadata": {},
   "outputs": [
    {
     "data": {
      "text/plain": [
       "Text(0.5, 1.0, 'Predicted price = previous second price')"
      ]
     },
     "execution_count": 426,
     "metadata": {},
     "output_type": "execute_result"
    },
    {
     "data": {
      "image/png": "[encoded data removed]",
      "text/plain": [
       "<Figure size 432x288 with 1 Axes>"
      ]
     },
     "metadata": {
      "needs_background": "light"
     },
     "output_type": "display_data"
    }
   ],
   "source": [
    "plt.plot(diff_previous_second)\n",
    "plt.xlabel(\"Time (seconds)\")\n",
    "plt.ylabel(\"Residual (scaled)\")\n",
    "plt.title(\"Predicted price = previous second price\")"
   ]
  },
  {
   "cell_type": "markdown",
   "metadata": {},
   "source": [
    "Okay, some good-ish news there.  We seem to be doing slightly better than the most naive model I could conceive.  It seems we're at least getting some value from the lookback function.\n",
    "\n",
    "Let's compare with the average as well."
   ]
  },
  {
   "cell_type": "code",
   "execution_count": 414,
   "metadata": {},
   "outputs": [
    {
     "data": {
      "text/plain": [
       "0.032686241855327786"
      ]
     },
     "execution_count": 414,
     "metadata": {},
     "output_type": "execute_result"
    }
   ],
   "source": [
    "def lookback_average(array, timesteps = 60):\n",
    "    # this uses the shift method of pandas dataframes to shift all of the columns down one row\n",
    "    # and then append to the original dataset\n",
    "    len_array = len(array)\n",
    "    len_array_average = len_array - timesteps\n",
    "    array_target = array[60:len_array]\n",
    "    lookback_average_array = np.zeros(len_array_average)\n",
    "    for i in range(len_array_average):\n",
    "        lookback_mean = array[i:i + timesteps].mean()\n",
    "        lookback_average_array[i] = lookback_mean\n",
    "        \n",
    "        \n",
    "    return lookback_average_array, array_target\n",
    "\n",
    "price_average_previous_sixty_seconds, price_next_second = lookback_average(target)\n",
    "diff_average = price_next_second - price_average_previous_sixty_seconds\n",
    "rmse_average = np.sqrt(np.mean(np.square((diff_average))))\n",
    "rmse_average"
   ]
  },
  {
   "cell_type": "markdown",
   "metadata": {},
   "source": [
    "We are also doing a little better than just averaging over the previous 60 seconds.\n",
    "\n",
    "Without knowing too much about LTSM networks, I would like to do one other model for comparison.  I expect a simple linear regression would fail miserably as it would not capture any meaningful relationship between the trade volume and the target price.  I will instead use a random forest."
   ]
  },
  {
   "cell_type": "code",
   "execution_count": 415,
   "metadata": {},
   "outputs": [],
   "source": [
    "from sklearn.ensemble import RandomForestRegressor\n",
    "from sklearn.model_selection import train_test_split\n",
    "\n",
    "train_features, test_features, train_labels, test_labels = train_test_split(features, target, test_size = 0.3, random_state = 314)\n",
    "\n",
    "rf = RandomForestRegressor(n_estimators=200, random_state=314)\n",
    "\n",
    "rf.fit(train_features, train_labels)\n",
    "\n",
    "predictions_rf = rf.predict(test_features)"
   ]
  },
  {
   "cell_type": "code",
   "execution_count": 416,
   "metadata": {},
   "outputs": [
    {
     "data": {
      "text/plain": [
       "array([0.75049111, 0.82890114, 0.51789252, ..., 0.29165315, 0.78463462,\n",
       "       0.85613287])"
      ]
     },
     "execution_count": 416,
     "metadata": {},
     "output_type": "execute_result"
    }
   ],
   "source": [
    "predictions_rf"
   ]
  },
  {
   "cell_type": "code",
   "execution_count": 417,
   "metadata": {},
   "outputs": [
    {
     "data": {
      "text/plain": [
       "array([0.74984357, 0.82880741, 0.5179577 , ..., 0.29145288, 0.78425729,\n",
       "       0.85446127])"
      ]
     },
     "execution_count": 417,
     "metadata": {},
     "output_type": "execute_result"
    }
   ],
   "source": [
    "test_labels"
   ]
  },
  {
   "cell_type": "code",
   "execution_count": 418,
   "metadata": {},
   "outputs": [
    {
     "data": {
      "text/plain": [
       "0.0054356869263232676"
      ]
     },
     "execution_count": 418,
     "metadata": {},
     "output_type": "execute_result"
    }
   ],
   "source": [
    "rmse_rf = np.sqrt(np.mean(np.square((test_labels - predictions_rf))))\n",
    "rmse_rf"
   ]
  },
  {
   "cell_type": "markdown",
   "metadata": {},
   "source": [
    "Random forest seems to be doing quite well.\n",
    "\n",
    "In fact it's doing so well that I was worried I hadn't done a train_test_split properly.  But I double-checked and it looks good (with a caveat).\n",
    "\n",
    "This feels like a good time to address one of my concerns: Data Leakage.  The lookback window smears information from the previous sixty seconds into the next second.  This means that a randomized validation split is going to pollute test data with train data.  Ideally I would advise splitting the data before applying the lookback, but this is nontrivial since lookback will get a random collection of datapoints going back further than 60 seconds.  We can do a split without shuffling and be careful at the edges, but I think I've hit the \"a few hours\" mark so I'll put a pin in it for now."
   ]
  }
 ],
 "metadata": {
  "kernelspec": {
   "display_name": "Python 3",
   "language": "python",
   "name": "python3"
  },
  "language_info": {
   "codemirror_mode": {
    "name": "ipython",
    "version": 3
   },
   "file_extension": ".py",
   "mimetype": "text/x-python",
   "name": "python",
   "nbconvert_exporter": "python",
   "pygments_lexer": "ipython3",
   "version": "3.6.0"
  }
 },
 "nbformat": 4,
 "nbformat_minor": 4
}
